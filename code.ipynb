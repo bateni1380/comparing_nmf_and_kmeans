{
 "cells": [
  {
   "cell_type": "code",
   "execution_count": 54,
   "id": "755e15f0",
   "metadata": {},
   "outputs": [],
   "source": [
    "from sklearn.decomposition import NMF\n",
    "from sklearn.cluster import KMeans\n",
    "from scipy.io import loadmat\n",
    "import numpy as np\n",
    "import math\n",
    "import time"
   ]
  },
  {
   "cell_type": "code",
   "execution_count": 59,
   "id": "68745d8c",
   "metadata": {},
   "outputs": [],
   "source": [
    "def load_data(mat_name):\n",
    "    data_set = loadmat(mat_name)\n",
    "    x = data_set['fea']\n",
    "    y_true = data_set['gnd'].flatten()\n",
    "    return x, y_true\n",
    "\n",
    "def filter_data(x, y_true, top_or_last, count): #top: True , last: False\n",
    "    classes = np.unique(y_true)\n",
    "    classes_count={i:np.sum(y_true==i) for i in classes}\n",
    "\n",
    "    if top_or_last:\n",
    "        classes_ind = np.argpartition(list(classes_count.values()), -count)[-count:]\n",
    "    else:\n",
    "        classes_ind = np.argpartition(list(classes_count.values()), +count)[:+count]\n",
    "    classes = [list(classes_count.keys())[i] for i in classes_ind]\n",
    "\n",
    "    x, y_true = x[np.where(np.isin(y_true, classes))], y_true[np.where(np.isin(y_true, classes))]\n",
    "    \n",
    "    return x, y_true, classes"
   ]
  },
  {
   "cell_type": "code",
   "execution_count": 63,
   "id": "39c38647",
   "metadata": {},
   "outputs": [],
   "source": [
    "def calculate_input_class(classes, model_labels, y_true):\n",
    "    input_class = {i:[] for i in classes}\n",
    "    cluster_class = {i:[] for i in classes}\n",
    "    \n",
    "    for predicted_y, group in zip(model_labels, y_true):\n",
    "        input_class[group].append(predicted_y)\n",
    "        cluster_class[predicted_y].append(group)\n",
    "        \n",
    "    return input_class, cluster_class\n",
    "\n",
    "def calculate_purity_and_entropy(input_class, cluster_class, classes, n, m):\n",
    "    purity = 0\n",
    "    for i in classes:\n",
    "        maxn = 0\n",
    "        for j in classes:\n",
    "            nij = np.sum(input_class[j]==i)\n",
    "            maxn = max(maxn, nij)\n",
    "        purity = purity+maxn/n\n",
    "    \n",
    "    entropy = 0\n",
    "    for i in classes:\n",
    "        for j in classes:\n",
    "            nij = np.sum(input_class[j]==i)\n",
    "            ni = len(\n",
    "                [i])\n",
    "            entropy = entropy + (nij*math.log((nij+1)/(ni+1)))\n",
    "\n",
    "    entropy = entropy*(-1/(n*math.log(m)))\n",
    "        \n",
    "    return purity, entropy"
   ]
  },
  {
   "cell_type": "code",
   "execution_count": 61,
   "id": "f97c689b",
   "metadata": {},
   "outputs": [],
   "source": [
    "def run(case, title):\n",
    "    print('case {} ({}) has called.'.format(case, title))\n",
    "    if case==1:\n",
    "        x, y_true = load_data(\"Reuters21578.mat\")\n",
    "        x, y_true, classes = filter_data(x, y_true, True, 20)\n",
    "    elif case==2:\n",
    "        x, y_true = load_data(\"Reuters21578.mat\")\n",
    "        x, y_true, classes = filter_data(x, y_true, True, 10)\n",
    "    elif case==3:\n",
    "        x, y_true = load_data(\"TDT2_all.mat\")\n",
    "        x, y_true, classes = filter_data(x, y_true, True, 30)\n",
    "        x, y_true, classes = filter_data(x, y_true, True, 10)\n",
    "    elif case==4:\n",
    "        x, y_true = load_data(\"TDT2_all.mat\")\n",
    "        x, y_true, classes = filter_data(x, y_true, True, 30)\n",
    "        x, y_true, classes = filter_data(x, y_true, False, 10)\n",
    "    print('case {}: data loaded!'.format(case))\n",
    "    \n",
    "    start_time = time.time()\n",
    "    print('case {}: KMeans started...'.format(case))\n",
    "    model = KMeans(n_clusters=len(classes))\n",
    "    model.fit(x)\n",
    "    model_lables = np.array(classes)[model.labels_]\n",
    "    print('case {}: KMeans ended in {:.2f} seconds!'.format(case, time.time()-start_time))\n",
    "    \n",
    "    input_class, cluster_class = calculate_input_class(classes, model_lables, y_true)\n",
    "    purity, entropy = calculate_purity_and_entropy(input_class, cluster_class, classes, x.shape[0], len(classes))\n",
    "    print('case {}: KMeans purity = {:.4}  KMeans entropy = {:.4f}.'.format(case,purity, entropy))\n",
    "    \n",
    "    start_time = time.time()\n",
    "    print('case {}: NMF started...'.format(case))\n",
    "    model = NMF(n_components =len(classes), init='nndsvda')\n",
    "    W = model.fit_transform(x)\n",
    "    model_lables_order = np.argmax(W, axis=1)\n",
    "    model_lables = np.array(classes)[model_lables_order]\n",
    "    print('case {}: NMF ended in {:.2f} seconds!'.format(case, time.time()-start_time))\n",
    "        \n",
    "    input_class, cluster_class = calculate_input_class(classes, model_lables, y_true)\n",
    "    purity, entropy = calculate_purity_and_entropy(input_class, cluster_class, classes, x.shape[0], len(classes))\n",
    "    print('case {}: NMF purity = {:.4f}  NMF entropy = {:.4f}. \\n'.format(case,purity, entropy))\n",
    "    "
   ]
  },
  {
   "cell_type": "code",
   "execution_count": 62,
   "id": "d1092f71",
   "metadata": {
    "scrolled": false
   },
   "outputs": [
    {
     "name": "stdout",
     "output_type": "stream",
     "text": [
      "case 1 (Reuters-Top10) has called.\n",
      "case 1: data loaded!\n",
      "case 1: KMeans started...\n",
      "case 1: KMeans ended in 22.51 seconds!\n",
      "case 1: KMeans purity = 0.6313  KMeans entropy = 0.3811.\n",
      "case 1: NMF started...\n"
     ]
    },
    {
     "name": "stderr",
     "output_type": "stream",
     "text": [
      "C:\\Users\\asus\\anaconda3\\envs\\tf\\lib\\site-packages\\sklearn\\decomposition\\_nmf.py:1637: ConvergenceWarning: Maximum number of iterations 200 reached. Increase it to improve convergence.\n",
      "  warnings.warn(\n"
     ]
    },
    {
     "name": "stdout",
     "output_type": "stream",
     "text": [
      "case 1: NMF ended in 5.00 seconds!\n",
      "case 1: NMF purity = 0.7642  NMF entropy = 0.2499. \n",
      "\n",
      "case 2 (Reuters-Top20) has called.\n",
      "case 2: data loaded!\n",
      "case 2: KMeans started...\n",
      "case 2: KMeans ended in 12.71 seconds!\n",
      "case 2: KMeans purity = 0.7261  KMeans entropy = 0.3943.\n",
      "case 2: NMF started...\n",
      "case 2: NMF ended in 1.26 seconds!\n",
      "case 2: NMF purity = 0.7863  NMF entropy = 0.3015. \n",
      "\n",
      "case 3 (TDT2-Top10) has called.\n",
      "case 3: data loaded!\n",
      "case 3: KMeans started...\n",
      "case 3: KMeans ended in 14.40 seconds!\n",
      "case 3: KMeans purity = 0.4843  KMeans entropy = 0.6152.\n",
      "case 3: NMF started...\n",
      "case 3: NMF ended in 1.64 seconds!\n",
      "case 3: NMF purity = 0.8332  NMF entropy = 0.2466. \n",
      "\n",
      "case 4 (TDT2-Last10) has called.\n",
      "case 4: data loaded!\n",
      "case 4: KMeans started...\n",
      "case 4: KMeans ended in 0.74 seconds!\n",
      "case 4: KMeans purity = 0.415  KMeans entropy = 0.6529.\n",
      "case 4: NMF started...\n",
      "case 4: NMF ended in 0.26 seconds!\n",
      "case 4: NMF purity = 0.8178  NMF entropy = 0.2210. \n",
      "\n"
     ]
    }
   ],
   "source": [
    "run(1, 'Reuters-Top10')\n",
    "run(2, 'Reuters-Top20')\n",
    "run(3, 'TDT2-Top10')\n",
    "run(4, 'TDT2-Last10')"
   ]
  },
  {
   "cell_type": "code",
   "execution_count": null,
   "id": "8d2d9576",
   "metadata": {},
   "outputs": [],
   "source": []
  }
 ],
 "metadata": {
  "kernelspec": {
   "display_name": "Python 3 (ipykernel)",
   "language": "python",
   "name": "python3"
  },
  "language_info": {
   "codemirror_mode": {
    "name": "ipython",
    "version": 3
   },
   "file_extension": ".py",
   "mimetype": "text/x-python",
   "name": "python",
   "nbconvert_exporter": "python",
   "pygments_lexer": "ipython3",
   "version": "3.9.7"
  }
 },
 "nbformat": 4,
 "nbformat_minor": 5
}
